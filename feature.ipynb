{
 "cells": [
  {
   "cell_type": "code",
   "execution_count": 2,
   "metadata": {},
   "outputs": [],
   "source": [
    "import pandas as pd\n",
    "import numpy as np"
   ]
  },
  {
   "cell_type": "code",
   "execution_count": 4,
   "metadata": {},
   "outputs": [],
   "source": [
    "data = pd.read_csv('C:/Users/LIKHITH GOWDA K/Documents/feature engineering/playstore.csv')"
   ]
  },
  {
   "cell_type": "code",
   "execution_count": 5,
   "metadata": {},
   "outputs": [],
   "source": [
    "data['Reviews'] = pd.to_numeric(data['Reviews'], errors='coerce')"
   ]
  },
  {
   "cell_type": "code",
   "execution_count": 7,
   "metadata": {},
   "outputs": [
    {
     "name": "stdout",
     "output_type": "stream",
     "text": [
      "['10,000+' '500,000+' '5,000,000+' '50,000,000+' '100,000+' '50,000+'\n",
      " '1,000,000+' '10,000,000+' '5,000+' '100,000,000+' '1,000,000,000+'\n",
      " '1,000+' '500,000,000+' '50+' '100+' '500+' '10+' '1+' '5+' '0+' '0'\n",
      " 'Free']\n",
      "0       10000.0\n",
      "1      500000.0\n",
      "2     5000000.0\n",
      "3    50000000.0\n",
      "4      100000.0\n",
      "Name: Installs, dtype: float64\n"
     ]
    },
    {
     "name": "stderr",
     "output_type": "stream",
     "text": [
      "C:\\Users\\LIKHITH GOWDA K\\AppData\\Local\\Temp\\ipykernel_33244\\1409783646.py:12: FutureWarning: A value is trying to be set on a copy of a DataFrame or Series through chained assignment using an inplace method.\n",
      "The behavior will change in pandas 3.0. This inplace method will never work because the intermediate object on which we are setting values always behaves as a copy.\n",
      "\n",
      "For example, when doing 'df[col].method(value, inplace=True)', try using 'df.method({col: value}, inplace=True)' or df[col] = df[col].method(value) instead, to perform the operation inplace on the original object.\n",
      "\n",
      "\n",
      "  data['Installs'].fillna(0, inplace=True)  # Replace NaNs with 0, or choose another method\n"
     ]
    }
   ],
   "source": [
    "# Check unique values in 'Installs' to understand the problem\n",
    "print(data['Installs'].unique())\n",
    "\n",
    "# 1. Remove non-numeric characters and handle errors\n",
    "# Convert 'Installs' column to numeric, replacing non-numeric values with NaN\n",
    "data['Installs'] = data['Installs'].str.replace(',', '').str.replace('+', '')\n",
    "\n",
    "# 2. Convert to numeric and coerce non-numeric values to NaN\n",
    "data['Installs'] = pd.to_numeric(data['Installs'], errors='coerce')\n",
    "\n",
    "# 3. Optionally, fill NaN values if necessary (you can use median or any other method)\n",
    "data['Installs'].fillna(0, inplace=True)  # Replace NaNs with 0, or choose another method\n",
    "\n",
    "# Check the result after conversion\n",
    "print(data['Installs'].head())\n"
   ]
  },
  {
   "cell_type": "code",
   "execution_count": 9,
   "metadata": {},
   "outputs": [
    {
     "name": "stdout",
     "output_type": "stream",
     "text": [
      "['0' '$4.99' '$3.99' '$6.99' '$1.49' '$2.99' '$7.99' '$5.99' '$3.49'\n",
      " '$1.99' '$9.99' '$7.49' '$0.99' '$9.00' '$5.49' '$10.00' '$24.99'\n",
      " '$11.99' '$79.99' '$16.99' '$14.99' '$1.00' '$29.99' '$12.99' '$2.49'\n",
      " '$10.99' '$1.50' '$19.99' '$15.99' '$33.99' '$74.99' '$39.99' '$3.95'\n",
      " '$4.49' '$1.70' '$8.99' '$2.00' '$3.88' '$25.99' '$399.99' '$17.99'\n",
      " '$400.00' '$3.02' '$1.76' '$4.84' '$4.77' '$1.61' '$2.50' '$1.59' '$6.49'\n",
      " '$1.29' '$5.00' '$13.99' '$299.99' '$379.99' '$37.99' '$18.99' '$389.99'\n",
      " '$19.90' '$8.49' '$1.75' '$14.00' '$4.85' '$46.99' '$109.99' '$154.99'\n",
      " '$3.08' '$2.59' '$4.80' '$1.96' '$19.40' '$3.90' '$4.59' '$15.46' '$3.04'\n",
      " '$4.29' '$2.60' '$3.28' '$4.60' '$28.99' '$2.95' '$2.90' '$1.97'\n",
      " '$200.00' '$89.99' '$2.56' '$30.99' '$3.61' '$394.99' '$1.26' 'Everyone'\n",
      " '$1.20' '$1.04']\n"
     ]
    }
   ],
   "source": [
    "# Check unique values in the 'Price' column\n",
    "print(data['Price'].unique())\n",
    "\n",
    "# Ensure 'Price' column is treated as a string before replacing '$'\n",
    "data['Price'] = data['Price'].astype(str)\n",
    "\n",
    "# Remove '$' from the 'Price' column\n",
    "data['Price'] = data['Price'].str.replace('$', '')\n",
    "\n",
    "# Convert to numeric, replacing non-numeric entries with NaN\n",
    "data['Price'] = pd.to_numeric(data['Price'], errors='coerce')\n",
    "\n",
    "# Optionally, fill NaN values (e.g., with 0 if the app is free or any other value)\n",
    "data['Price'].fillna(0, inplace=True)\n",
    "\n",
    "# Check the cleaned 'Price' column\n",
    "print(data['Price'].head())\n"
   ]
  },
  {
   "cell_type": "code",
   "execution_count": 10,
   "metadata": {},
   "outputs": [],
   "source": [
    "def convert_size(size):\n",
    "    if size.endswith('M'):\n",
    "        return float(size[:-1]) * 1024  # Convert MB to KB\n",
    "    elif size.endswith('k'):\n",
    "        return float(size[:-1])  # Size is already in KB\n",
    "    else:\n",
    "        return np.nan  # For entries like \"Varies with device\""
   ]
  },
  {
   "cell_type": "code",
   "execution_count": 11,
   "metadata": {},
   "outputs": [
    {
     "name": "stderr",
     "output_type": "stream",
     "text": [
      "C:\\Users\\LIKHITH GOWDA K\\AppData\\Local\\Temp\\ipykernel_33244\\3391531980.py:4: FutureWarning: A value is trying to be set on a copy of a DataFrame or Series through chained assignment using an inplace method.\n",
      "The behavior will change in pandas 3.0. This inplace method will never work because the intermediate object on which we are setting values always behaves as a copy.\n",
      "\n",
      "For example, when doing 'df[col].method(value, inplace=True)', try using 'df.method({col: value}, inplace=True)' or df[col] = df[col].method(value) instead, to perform the operation inplace on the original object.\n",
      "\n",
      "\n",
      "  data['Size'].fillna(data['Size'].median(), inplace=True)\n"
     ]
    }
   ],
   "source": [
    "data['Size'] = data['Size'].apply(convert_size)\n",
    "\n",
    "# Impute missing sizes by median (optional)\n",
    "data['Size'].fillna(data['Size'].median(), inplace=True)"
   ]
  },
  {
   "cell_type": "code",
   "execution_count": 13,
   "metadata": {},
   "outputs": [
    {
     "name": "stderr",
     "output_type": "stream",
     "text": [
      "C:\\Users\\LIKHITH GOWDA K\\AppData\\Local\\Temp\\ipykernel_33244\\701555547.py:2: FutureWarning: A value is trying to be set on a copy of a DataFrame or Series through chained assignment using an inplace method.\n",
      "The behavior will change in pandas 3.0. This inplace method will never work because the intermediate object on which we are setting values always behaves as a copy.\n",
      "\n",
      "For example, when doing 'df[col].method(value, inplace=True)', try using 'df.method({col: value}, inplace=True)' or df[col] = df[col].method(value) instead, to perform the operation inplace on the original object.\n",
      "\n",
      "\n",
      "  data['Rating'].fillna(data['Rating'].median(), inplace=True)\n"
     ]
    }
   ],
   "source": [
    "# 5. Fill missing 'Rating' values with median rating\n",
    "data['Rating'].fillna(data['Rating'].median(), inplace=True)\n"
   ]
  },
  {
   "cell_type": "code",
   "execution_count": 14,
   "metadata": {},
   "outputs": [],
   "source": [
    "# 6. Handle missing values in 'Type' by filling with the mode ('Free')\n",
    "data['Type'].fillna('Free', inplace=True)"
   ]
  },
  {
   "cell_type": "code",
   "execution_count": 16,
   "metadata": {},
   "outputs": [
    {
     "name": "stdout",
     "output_type": "stream",
     "text": [
      "['January 7, 2018' 'January 15, 2018' 'August 1, 2018' ...\n",
      " 'January 20, 2014' 'February 16, 2014' 'March 23, 2014']\n",
      "  Last Updated  Year Updated  Month Updated\n",
      "0   2018-01-07          2018              1\n",
      "1   2018-01-15          2018              1\n",
      "2   2018-08-01          2018              8\n",
      "3   2018-06-08          2018              6\n",
      "4   2018-06-20          2018              6\n"
     ]
    },
    {
     "name": "stderr",
     "output_type": "stream",
     "text": [
      "C:\\Users\\LIKHITH GOWDA K\\AppData\\Local\\Temp\\ipykernel_33244\\1080415297.py:9: FutureWarning: A value is trying to be set on a copy of a DataFrame or Series through chained assignment using an inplace method.\n",
      "The behavior will change in pandas 3.0. This inplace method will never work because the intermediate object on which we are setting values always behaves as a copy.\n",
      "\n",
      "For example, when doing 'df[col].method(value, inplace=True)', try using 'df.method({col: value}, inplace=True)' or df[col] = df[col].method(value) instead, to perform the operation inplace on the original object.\n",
      "\n",
      "\n",
      "  data['Last Updated'].fillna(pd.to_datetime('1970-01-01'), inplace=True)\n"
     ]
    }
   ],
   "source": [
    "# Inspect the unique values in the 'Last Updated' column to find problematic entries\n",
    "print(data['Last Updated'].unique())\n",
    "\n",
    "# Handle non-date values by coercing errors to NaT (Not a Time)\n",
    "data['Last Updated'] = pd.to_datetime(data['Last Updated'], errors='coerce')\n",
    "\n",
    "# Now that non-date values have been set to NaT, you can fill or drop them if needed\n",
    "# Example: Filling NaT with the most recent valid date or a placeholder date\n",
    "data['Last Updated'].fillna(pd.to_datetime('2018-01-01'), inplace=True)\n",
    "\n",
    "# Alternatively, you can drop rows with NaT values in 'Last Updated'\n",
    "# data.dropna(subset=['Last Updated'], inplace=True)\n",
    "\n",
    "# Extract the year and month\n",
    "data['Year Updated'] = data['Last Updated'].dt.year\n",
    "data['Month Updated'] = data['Last Updated'].dt.month\n",
    "\n",
    "# Check the cleaned 'Last Updated' column\n",
    "print(data[['Last Updated', 'Year Updated', 'Month Updated']].head())\n"
   ]
  },
  {
   "cell_type": "code",
   "execution_count": 17,
   "metadata": {},
   "outputs": [],
   "source": [
    "# 8. Encoding categorical columns\n",
    "# One-hot encode 'Category' and 'Content Rating' (can use label encoding if desired)\n",
    "data = pd.get_dummies(data, columns=['Category', 'Content Rating'], drop_first=True)"
   ]
  },
  {
   "cell_type": "code",
   "execution_count": 18,
   "metadata": {},
   "outputs": [],
   "source": [
    "# 9. Convert 'Type' to binary (Free=0, Paid=1)\n",
    "data['Type'] = data['Type'].map({'Free': 0, 'Paid': 1})"
   ]
  },
  {
   "cell_type": "code",
   "execution_count": 19,
   "metadata": {},
   "outputs": [],
   "source": [
    "# 10. Split 'Genres' to take the first genre in case of multiple\n",
    "data['Genres'] = data['Genres'].apply(lambda x: x.split(';')[0])"
   ]
  },
  {
   "cell_type": "code",
   "execution_count": 20,
   "metadata": {},
   "outputs": [],
   "source": [
    "# Convert 'Genres' to numerical format via label encoding\n",
    "data['Genres'] = data['Genres'].astype('category').cat.codes"
   ]
  },
  {
   "cell_type": "code",
   "execution_count": 21,
   "metadata": {},
   "outputs": [],
   "source": [
    "# Save the cleaned and feature engineered dataset\n",
    "data.to_csv('playstore_cleaned.csv', index=False)"
   ]
  },
  {
   "cell_type": "code",
   "execution_count": 22,
   "metadata": {},
   "outputs": [
    {
     "name": "stdout",
     "output_type": "stream",
     "text": [
      "Feature engineering complete! Cleaned data saved as 'playstore_cleaned.csv'.\n"
     ]
    }
   ],
   "source": [
    "print(\"Feature engineering complete! Cleaned data saved as 'playstore_cleaned.csv'.\")"
   ]
  }
 ],
 "metadata": {
  "kernelspec": {
   "display_name": "Python 3",
   "language": "python",
   "name": "python3"
  },
  "language_info": {
   "codemirror_mode": {
    "name": "ipython",
    "version": 3
   },
   "file_extension": ".py",
   "mimetype": "text/x-python",
   "name": "python",
   "nbconvert_exporter": "python",
   "pygments_lexer": "ipython3",
   "version": "3.12.4"
  }
 },
 "nbformat": 4,
 "nbformat_minor": 2
}
